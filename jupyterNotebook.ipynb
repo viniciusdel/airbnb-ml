{
 "cells": [
  {
   "cell_type": "code",
   "execution_count": 43,
   "metadata": {},
   "outputs": [],
   "source": [
    "import os\n",
    "datapath = \"finaldata.csv\"\n",
    "\n",
    "# Load system libraries\n",
    "import sys\n",
    "import datetime\n",
    "import random\n",
    "import numpy as np\n",
    "\n",
    "# Load ML libraries\n",
    "import pandas as pd\n",
    "\n",
    "from matplotlib import pyplot\n",
    "import matplotlib.pyplot as plt\n",
    "from sklearn.tree import DecisionTreeRegressor\n",
    "\n",
    "from sklearn import model_selection\n",
    "from sklearn.metrics import classification_report\n",
    "from sklearn.metrics import confusion_matrix\n",
    "from sklearn.metrics import accuracy_score\n",
    "from sklearn import metrics\n",
    "from sklearn.model_selection import cross_val_score\n",
    "\n",
    "import warnings\n",
    "warnings.filterwarnings(\"ignore\")\n",
    "\n",
    "from sklearn.tree import export_graphviz\n",
    "\n",
    "# To plot pretty figures\n",
    "%matplotlib inline"
   ]
  },
  {
   "cell_type": "code",
   "execution_count": 44,
   "metadata": {},
   "outputs": [],
   "source": [
    "def _train(alg, algName, X_train, Y_train, X_test, Y_test):\n",
    "    print(datetime.datetime.now(), \"Begin training: \", algName)\n",
    "    alg.fit(X_train, Y_train)\n",
    "    print(datetime.datetime.now(), \"End training: \", algName)"
   ]
  },
  {
   "cell_type": "code",
   "execution_count": 45,
   "metadata": {},
   "outputs": [],
   "source": [
    "def _predict(alg, algName, X_train, Y_train, X_test, Y_test):\n",
    "    print(datetime.datetime.now(), \"Begin prediction: \", algName)\n",
    "    predictions = alg.predict(X_test)\n",
    "    print(datetime.datetime.now(), \"End prediction: \", algName)"
   ]
  },
  {
   "cell_type": "code",
   "execution_count": 46,
   "metadata": {},
   "outputs": [],
   "source": [
    "# Load the data\n",
    "NYC_data = pd.read_csv(datapath)"
   ]
  },
  {
   "cell_type": "code",
   "execution_count": 47,
   "metadata": {},
   "outputs": [
    {
     "name": "stdout",
     "output_type": "stream",
     "text": [
      "Splitting data into training and test sets\n",
      "X Shape:  (47188, 6)\n",
      "Y Shape:  (47188, 1)\n"
     ]
    }
   ],
   "source": [
    "# split data into train/test datasets\n",
    "print(\"Splitting data into training and test sets\")\n",
    "array = NYC_data.values\n",
    "X = array[1:,:6]\n",
    "Y = array[1:,6:]\n",
    "\n",
    "print(\"X Shape: \" , X.shape)\n",
    "print(\"Y Shape: \" , Y.shape)\n",
    "\n",
    "test_size = 0.20\n",
    "seed = 7\n",
    "X_train, X_test, Y_train, Y_test = model_selection.train_test_split(X, Y, test_size=test_size, random_state=seed)"
   ]
  },
  {
   "cell_type": "code",
   "execution_count": 48,
   "metadata": {},
   "outputs": [
    {
     "data": {
      "text/plain": [
       "RandomForestRegressor(bootstrap='true', criterion='mse', max_depth=None,\n",
       "           max_features='auto', max_leaf_nodes=None,\n",
       "           min_impurity_decrease=0.0, min_impurity_split=None,\n",
       "           min_samples_leaf=1, min_samples_split=2,\n",
       "           min_weight_fraction_leaf=0.0, n_estimators=100, n_jobs=None,\n",
       "           oob_score=False, random_state=42, verbose=0, warm_start=False)"
      ]
     },
     "execution_count": 48,
     "metadata": {},
     "output_type": "execute_result"
    }
   ],
   "source": [
    "#RANDOM FOREST MODEL\n",
    "from sklearn.ensemble import RandomForestRegressor\n",
    "\n",
    "#Initialize regressor\n",
    "rnd_rgr = RandomForestRegressor(bootstrap=\"true\", random_state=42, n_estimators=100)\n",
    "\n",
    "#train it\n",
    "rnd_rgr.fit(X_train, Y_train.ravel())"
   ]
  },
  {
   "cell_type": "code",
   "execution_count": 49,
   "metadata": {},
   "outputs": [
    {
     "name": "stdout",
     "output_type": "stream",
     "text": [
      "Accuracy: 77.43%\n"
     ]
    }
   ],
   "source": [
    "#EVALUATING RESULTS\n",
    "print(\"Accuracy: \" + str(round((1-rnd_rgr.score(X_test, Y_test))*100,2)) + \"%\")"
   ]
  },
  {
   "cell_type": "code",
   "execution_count": 50,
   "metadata": {},
   "outputs": [
    {
     "name": "stdout",
     "output_type": "stream",
     "text": [
      "[0.05128558 0.31901556 0.31714861 0.14146499 0.08813001 0.08295526]\n"
     ]
    }
   ],
   "source": [
    "#How useful were the features?\n",
    "print(rnd_rgr.feature_importances_)"
   ]
  },
  {
   "cell_type": "code",
   "execution_count": 51,
   "metadata": {},
   "outputs": [
    {
     "name": "stdout",
     "output_type": "stream",
     "text": [
      "[104.23]\n"
     ]
    }
   ],
   "source": [
    "#MAKING A SINGLE PREDICTION\n",
    "print(rnd_rgr.predict([[102, 40.72042, -73.98662, 1, 30, 200]]))"
   ]
  },
  {
   "cell_type": "code",
   "execution_count": 52,
   "metadata": {},
   "outputs": [
    {
     "name": "stdout",
     "output_type": "stream",
     "text": [
      "2019-12-03 19:23:02.314334 Begin training:  Logistic Regression\n",
      "2019-12-03 19:25:35.647569 End training:  Logistic Regression\n",
      "2019-12-03 19:25:35.647882 Begin prediction:  Logistic Regression\n",
      "2019-12-03 19:25:35.728564 End prediction:  Logistic Regression\n"
     ]
    },
    {
     "data": {
      "text/plain": [
       "0.06675143038779402"
      ]
     },
     "execution_count": 52,
     "metadata": {},
     "output_type": "execute_result"
    }
   ],
   "source": [
    "from sklearn.linear_model import LogisticRegression\n",
    "\n",
    "lor = LogisticRegression()\n",
    "_train(lor, \"Logistic Regression\", X_train, Y_train, X_test, Y_test)\n",
    "_predict(lor, \"Logistic Regression\", X_train, Y_train, X_test, Y_test)\n",
    "\n",
    "lor.score(X_test,Y_test)"
   ]
  },
  {
   "cell_type": "code",
   "execution_count": 37,
   "metadata": {},
   "outputs": [
    {
     "name": "stdout",
     "output_type": "stream",
     "text": [
      "2019-12-03 18:56:42.862210 Begin training:  Support Vector\n",
      "2019-12-03 18:57:47.944007 End training:  Support Vector\n",
      "2019-12-03 18:57:47.944327 Begin prediction:  Support Vector\n",
      "2019-12-03 18:57:56.017192 End prediction:  Support Vector\n",
      "Error score:\n"
     ]
    },
    {
     "data": {
      "text/plain": [
       "-0.038257963935729666"
      ]
     },
     "execution_count": 37,
     "metadata": {},
     "output_type": "execute_result"
    }
   ],
   "source": [
    "#SUPPORT VECTOR REGRESSOR\n",
    "from sklearn.svm import SVR\n",
    "\n",
    "X = array[1:,:6]\n",
    "Y = array[1:,6]\n",
    "\n",
    "X_train, X_test, Y_train, Y_test = model_selection.train_test_split(X, Y, test_size=test_size, random_state=seed)\n",
    "\n",
    "svm = SVR(kernel='rbf', C=.1, gamma=0.1, epsilon=.1)\n",
    "\n",
    "_train(svm, \"Support Vector\", X_train, Y_train, X_test, Y_test)\n",
    "_predict(svm, \"Support Vector\", X_train, Y_train, X_test, Y_test)\n",
    "\n",
    "print(\"Error score:\")\n",
    "svm.score(X_test,Y_test)\n",
    "#NOTE: SVM does return a negative score, -0.038, this is normal and expected"
   ]
  },
  {
   "cell_type": "code",
   "execution_count": 54,
   "metadata": {},
   "outputs": [
    {
     "name": "stdout",
     "output_type": "stream",
     "text": [
      "Accuracy: 99.64%\n"
     ]
    }
   ],
   "source": [
    "#NEW, BETTER REGRESSOR\n",
    "X = array[1:,:6]\n",
    "Y = array[1:,6:]\n",
    "\n",
    "X_train, X_test, Y_train, Y_test = model_selection.train_test_split(X, Y, test_size=test_size, random_state=seed)\n",
    "#Initialize regressor\n",
    "rnd_rgr = RandomForestRegressor(random_state=1 ,n_estimators=3)\n",
    "#Train Random Forest Model\n",
    "rnd_rgr.fit(X_train, Y_train)\n",
    "#Evaluate results\n",
    "print(\"Accuracy: \" + str(round((1-rnd_rgr.score(X_test, Y_test))*100,2)) + \"%\")"
   ]
  },
  {
   "cell_type": "code",
   "execution_count": null,
   "metadata": {},
   "outputs": [],
   "source": []
  }
 ],
 "metadata": {
  "kernelspec": {
   "display_name": "Python 3",
   "language": "python",
   "name": "python3"
  },
  "language_info": {
   "codemirror_mode": {
    "name": "ipython",
    "version": 3
   },
   "file_extension": ".py",
   "mimetype": "text/x-python",
   "name": "python",
   "nbconvert_exporter": "python",
   "pygments_lexer": "ipython3",
   "version": "3.7.3"
  }
 },
 "nbformat": 4,
 "nbformat_minor": 2
}
